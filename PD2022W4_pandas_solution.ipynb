{
 "cells": [
  {
   "cell_type": "markdown",
   "metadata": {},
   "source": [
    "# Preppin Data Week 4:\n",
    "### The Prep School - Travel Plans\n",
    "\n",
    "Note: I omitted some steps from the instructions this week as they were unnecessary to produce the final output"
   ]
  },
  {
   "cell_type": "markdown",
   "metadata": {},
   "source": [
    "### Import pandas"
   ]
  },
  {
   "cell_type": "code",
   "execution_count": null,
   "metadata": {},
   "outputs": [],
   "source": [
    "import pandas as pd"
   ]
  },
  {
   "cell_type": "markdown",
   "metadata": {},
   "source": [
    "### Import data"
   ]
  },
  {
   "cell_type": "code",
   "execution_count": null,
   "metadata": {},
   "outputs": [],
   "source": [
    "df = pd.read_csv('PD 2021 WK 4 Input.csv')\n",
    "df"
   ]
  },
  {
   "cell_type": "markdown",
   "metadata": {},
   "source": [
    "### Reshape data to change weekdays from separate columns to one column of weekdays and one of the pupil's travel choice"
   ]
  },
  {
   "cell_type": "code",
   "execution_count": null,
   "metadata": {},
   "outputs": [],
   "source": [
    "df = df.melt(id_vars=['Student ID'], value_vars=['M', 'Tu', 'W', 'Th', 'F'], var_name='Weekday', value_name='Method of Travel')\n",
    "df.head()"
   ]
  },
  {
   "cell_type": "markdown",
   "metadata": {},
   "source": [
    "### Clean the methods of travel to remove spelling mistakes\n",
    "\n",
    "1. Find out what all of the spelling errors are using .value_counts()\n",
    "    - you can also use .unique(). I like the .value_counts() output better"
   ]
  },
  {
   "cell_type": "code",
   "execution_count": null,
   "metadata": {},
   "outputs": [],
   "source": [
    "df['Method of Travel'].value_counts()"
   ]
  },
  {
   "cell_type": "markdown",
   "metadata": {},
   "source": [
    "2. Change the necessary values using pd.replace()\n",
    "    - you can also use a combination of .lower() and .replace() to eliminate the error caused by 'WAlk'. As there was only one error of this type, I replaced it manually."
   ]
  },
  {
   "cell_type": "code",
   "execution_count": null,
   "metadata": {},
   "outputs": [],
   "source": [
    "df = df.replace(['Scoter', 'Scootr'], 'Scooter')\n",
    "df = df.replace(['Walkk', 'Wallk', 'WAlk', 'Waalk'], 'Walk')\n",
    "df = df.replace('Carr', 'Car')\n",
    "df = df.replace('Bycycle', 'Bicycle')\n",
    "df = df.replace('Helicopeter', 'Helicopter')"
   ]
  },
  {
   "cell_type": "markdown",
   "metadata": {},
   "source": [
    "3. Check to make sure all values have been changed."
   ]
  },
  {
   "cell_type": "code",
   "execution_count": null,
   "metadata": {},
   "outputs": [],
   "source": [
    "df['Method of Travel'].value_counts()"
   ]
  },
  {
   "cell_type": "markdown",
   "metadata": {},
   "source": [
    "### Create a Sustainable column marking motorized options as non-sustainable and non-motorized options as sustainable\n",
    "\n",
    "1. Create the new column via assignment, using replace to replace the motorized options with 'Non-Sustainable'"
   ]
  },
  {
   "cell_type": "code",
   "execution_count": null,
   "metadata": {},
   "outputs": [],
   "source": [
    "df['Sustainable'] = df['Method of Travel'].replace(['Car', 'Van', 'Helicopter', 'Aeroplane'], 'Non-Sustainable')"
   ]
  },
  {
   "cell_type": "markdown",
   "metadata": {},
   "source": [
    "2. Replace the rest of the values in the column with the 'Sustainable' designation"
   ]
  },
  {
   "cell_type": "code",
   "execution_count": null,
   "metadata": {},
   "outputs": [],
   "source": [
    "df['Sustainable'] = df['Sustainable'].replace(['Walk', 'Bicycle', 'Scooter', \"Mum's Shoulders\", \"Dad's Shoulders\", 'Hopped', 'Jumped', 'Skipped'], 'Sustainable')"
   ]
  },
  {
   "cell_type": "markdown",
   "metadata": {},
   "source": [
    "3. Check to make sure no values have been missed."
   ]
  },
  {
   "cell_type": "code",
   "execution_count": null,
   "metadata": {},
   "outputs": [],
   "source": [
    "df['Sustainable'].value_counts()"
   ]
  },
  {
   "cell_type": "markdown",
   "metadata": {},
   "source": [
    "### Total up the number of pupils traveling by each method of travel for each weekday\n",
    "\n",
    "1. Create a groupby based on the Sustainable, Method of Travel, and Weekday columns.\n",
    "    - aggregate by .count\n",
    "    - reset index to create a dataframe rather than a multi-index groupby object\n",
    "    \n",
    "    This will count the number of student trips using the student ID column"
   ]
  },
  {
   "cell_type": "code",
   "execution_count": null,
   "metadata": {},
   "outputs": [],
   "source": [
    "gb = df.groupby(by=['Sustainable', 'Method of Travel', 'Weekday']).count().reset_index()\n",
    "gb"
   ]
  },
  {
   "cell_type": "markdown",
   "metadata": {},
   "source": [
    "2. Rename the student ID column to 'Number of Trips'"
   ]
  },
  {
   "cell_type": "code",
   "execution_count": null,
   "metadata": {},
   "outputs": [],
   "source": [
    "gb = gb.rename(columns={'Student ID' : 'Number of Trips'})\n",
    "gb.head()"
   ]
  },
  {
   "cell_type": "markdown",
   "metadata": {},
   "source": [
    "### Add a trips by day column"
   ]
  },
  {
   "cell_type": "code",
   "execution_count": null,
   "metadata": {},
   "outputs": [],
   "source": [
    "gb['Trips per day'] = 1000\n",
    "gb.head()"
   ]
  },
  {
   "cell_type": "markdown",
   "metadata": {},
   "source": [
    "### Calculate the% of trips taken by each method of travel each day\n",
    "1. Calculate via column division.\n",
    "    - round to two decimal places"
   ]
  },
  {
   "cell_type": "code",
   "execution_count": null,
   "metadata": {},
   "outputs": [],
   "source": [
    "gb['% of trips per day'] = round(gb['Number of Trips']/gb['Trips per day'], 2)\n",
    "gb.head()"
   ]
  },
  {
   "cell_type": "markdown",
   "metadata": {},
   "source": [
    "### Export dataframe to CSV"
   ]
  },
  {
   "cell_type": "code",
   "execution_count": null,
   "metadata": {},
   "outputs": [],
   "source": [
    "gb.to_csv('pandas_solution.csv', index=False)"
   ]
  },
  {
   "cell_type": "code",
   "execution_count": null,
   "metadata": {},
   "outputs": [],
   "source": []
  }
 ],
 "metadata": {
  "kernelspec": {
   "display_name": "Python 3",
   "language": "python",
   "name": "python3"
  },
  "language_info": {
   "codemirror_mode": {
    "name": "ipython",
    "version": 3
   },
   "file_extension": ".py",
   "mimetype": "text/x-python",
   "name": "python",
   "nbconvert_exporter": "python",
   "pygments_lexer": "ipython3",
   "version": "3.7.3"
  }
 },
 "nbformat": 4,
 "nbformat_minor": 4
}
